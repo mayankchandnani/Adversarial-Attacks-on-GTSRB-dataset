{
 "cells": [
  {
   "cell_type": "markdown",
   "metadata": {},
   "source": [
    "# Approach 1: Random Fuzzing on Model 2"
   ]
  },
  {
   "cell_type": "code",
   "execution_count": 167,
   "metadata": {},
   "outputs": [],
   "source": [
    "import json\n",
    "\n",
    "# Public libraries\n",
    "from keras.models import model_from_json\n",
    "from keras.optimizers import Adam\n",
    "from keras.utils import np_utils\n",
    "import numpy as np\n",
    "import matplotlib.pyplot as plt\n",
    "import cv2\n",
    "import random, os\n",
    "from sklearn.metrics import accuracy_score\n",
    "\n",
    "# Project\n",
    "import config\n",
    "import helper\n",
    "\n",
    "\n",
    "def fetch_data():\n",
    "    DATA_SET = 'test'  # {'test', 'train', 'valid'}\n",
    "\n",
    "    # Load images and labels\n",
    "    x, y = helper.load_data(DATA_SET)\n",
    "    \n",
    "    ## getting 50 random images with their labels without duplicates\n",
    "    \n",
    "    img_test=randomList = random.sample(range(0, 12000),200)\n",
    "    \n",
    "    return img_test,x,y"
   ]
  },
  {
   "cell_type": "markdown",
   "metadata": {},
   "source": [
    "# Random Fuzzing"
   ]
  },
  {
   "cell_type": "markdown",
   "metadata": {},
   "source": [
    "At an initial stage, we have to iteratively apply Random Fuzzing for one image and observe the number of pixels\n",
    "at which model starts to give us wrong prediction. An image of label 33 has been chosen."
   ]
  },
  {
   "cell_type": "code",
   "execution_count": 155,
   "metadata": {},
   "outputs": [
    {
     "data": {
      "text/plain": [
       "Text(0.5, 1.0, 'Original Image, Label-33')"
      ]
     },
     "execution_count": 155,
     "metadata": {},
     "output_type": "execute_result"
    },
    {
     "data": {
      "image/png": "[encoded data removed]",
      "text/plain": [
       "<Figure size 432x288 with 1 Axes>"
      ]
     },
     "metadata": {
      "needs_background": "light"
     },
     "output_type": "display_data"
    }
   ],
   "source": [
    "img_test,x,y=fetch_data()\n",
    "img=x[234]\n",
    "plt.imshow(img)\n",
    "plt.title(\"Original Image, Label-33\")"
   ]
  },
  {
   "cell_type": "markdown",
   "metadata": {},
   "source": [
    "Step 1: Manipulating random 50 pixels and checking the strength of the model."
   ]
  },
  {
   "cell_type": "code",
   "execution_count": 154,
   "metadata": {},
   "outputs": [
    {
     "data": {
      "text/plain": [
       "Text(0.5, 1.0, 'Label-[33]')"
      ]
     },
     "execution_count": 154,
     "metadata": {},
     "output_type": "execute_result"
    },
    {
     "data": {
      "image/png": "[encoded data removed]",
      "text/plain": [
       "<Figure size 432x288 with 1 Axes>"
      ]
     },
     "metadata": {
      "needs_background": "light"
     },
     "output_type": "display_data"
    }
   ],
   "source": [
    "img_test,x,y=fetch_data()\n",
    "img=x[234]\n",
    "\n",
    "\n",
    "model_file = config.MODEL_DEFINITION\n",
    "with open(model_file, 'r') as jfile:\n",
    "    model = model_from_json(json.loads(jfile.read()))\n",
    "\n",
    "# Compile model and load weights\n",
    "model.compile(optimizer=Adam(), loss='categorical_crossentropy',\n",
    "metrics=['accuracy'])\n",
    "model.load_weights(config.MODEL_WEIGHTS)\n",
    "\n",
    "li_x=[]\n",
    "li_y=[]\n",
    "        \n",
    "for i in range(0,50,1):  \n",
    "    li_x.append(random.randint(0,30))\n",
    "    li_y.append(random.randint(0,30))\n",
    "           \n",
    "for j in range(0,50,1):\n",
    "    img[li_x[j]:li_x[j]+1,li_y[j]:li_y[j]+1] = (255,255,255)\n",
    "\n",
    "    \n",
    "img.shape=(1,32,32,3)\n",
    "pred=model.predict_classes(img)\n",
    "img.shape=32,32,3\n",
    "plt.imshow(img)\n",
    "plt.title(\"Label-\"+str(pred))"
   ]
  },
  {
   "cell_type": "markdown",
   "metadata": {},
   "source": [
    "Model is predicting the correct label. \n",
    "\n",
    "Step 2: Manipulating random 100 pixels (randomly selecting 50 pixels, with x axis =2) and checking the \n",
    "strength of the model."
   ]
  },
  {
   "cell_type": "code",
   "execution_count": 153,
   "metadata": {},
   "outputs": [
    {
     "data": {
      "text/plain": [
       "Text(0.5, 1.0, 'Label-[33]')"
      ]
     },
     "execution_count": 153,
     "metadata": {},
     "output_type": "execute_result"
    },
    {
     "data": {
      "image/png": "[encoded data removed]",
      "text/plain": [
       "<Figure size 432x288 with 1 Axes>"
      ]
     },
     "metadata": {
      "needs_background": "light"
     },
     "output_type": "display_data"
    }
   ],
   "source": [
    "img_test,x,y=fetch_data()\n",
    "img=x[234]\n",
    "\n",
    "\n",
    "model_file = config.MODEL_DEFINITION\n",
    "with open(model_file, 'r') as jfile:\n",
    "    model = model_from_json(json.loads(jfile.read()))\n",
    "\n",
    "# Compile model and load weights\n",
    "model.compile(optimizer=Adam(), loss='categorical_crossentropy',\n",
    "metrics=['accuracy'])\n",
    "model.load_weights(config.MODEL_WEIGHTS)\n",
    "\n",
    "li_x=[]\n",
    "li_y=[]\n",
    "        \n",
    "for i in range(0,50,1):  \n",
    "    li_x.append(random.randint(0,30))\n",
    "    li_y.append(random.randint(0,30))\n",
    "           \n",
    "for j in range(0,50,1):\n",
    "    img[li_x[j]:li_x[j]+2,li_y[j]:li_y[j]+1] = (255,255,255)\n",
    "\n",
    "    \n",
    "img.shape=(1,32,32,3)\n",
    "pred=model.predict_classes(img)\n",
    "img.shape=32,32,3\n",
    "plt.imshow(img)\n",
    "plt.title(\"Label-\"+str(pred))"
   ]
  },
  {
   "cell_type": "markdown",
   "metadata": {},
   "source": [
    "Model is predicting the right label.\n",
    "\n",
    "Step 3: Manipulating random 100 pixels"
   ]
  },
  {
   "cell_type": "code",
   "execution_count": 129,
   "metadata": {},
   "outputs": [
    {
     "data": {
      "text/plain": [
       "Text(0.5, 1.0, 'Label-[33]')"
      ]
     },
     "execution_count": 129,
     "metadata": {},
     "output_type": "execute_result"
    },
    {
     "data": {
      "image/png": "[encoded data removed]",
      "text/plain": [
       "<Figure size 432x288 with 1 Axes>"
      ]
     },
     "metadata": {
      "needs_background": "light"
     },
     "output_type": "display_data"
    }
   ],
   "source": [
    "img_test,x,y=fetch_data()\n",
    "img=x[234]\n",
    "\n",
    "\n",
    "model_file = config.MODEL_DEFINITION\n",
    "with open(model_file, 'r') as jfile:\n",
    "    model = model_from_json(json.loads(jfile.read()))\n",
    "\n",
    "# Compile model and load weights\n",
    "model.compile(optimizer=Adam(), loss='categorical_crossentropy',\n",
    "metrics=['accuracy'])\n",
    "model.load_weights(config.MODEL_WEIGHTS)\n",
    "\n",
    "li_x=[]\n",
    "li_y=[]\n",
    "        \n",
    "for i in range(0,100,1):  \n",
    "    li_x.append(random.randint(0,30))\n",
    "    li_y.append(random.randint(0,30))\n",
    "           \n",
    "for j in range(0,100,1):\n",
    "    img[li_x[j]:li_x[j]+1,li_y[j]:li_y[j]+1] = (255,255,255)\n",
    "\n",
    "    \n",
    "img.shape=(1,32,32,3)\n",
    "pred=model.predict_classes(img)\n",
    "img.shape=32,32,3\n",
    "plt.imshow(img)\n",
    "plt.title(\"Label-\"+str(pred))"
   ]
  },
  {
   "cell_type": "markdown",
   "metadata": {},
   "source": [
    "The image is recognizable by human eye. The model is still predicting the right image.\n",
    "\n",
    "Step 4: Now observing the strength of the model by manipulating 200 pixels."
   ]
  },
  {
   "cell_type": "code",
   "execution_count": 152,
   "metadata": {},
   "outputs": [
    {
     "data": {
      "text/plain": [
       "Text(0.5, 1.0, 'Label-[33]')"
      ]
     },
     "execution_count": 152,
     "metadata": {},
     "output_type": "execute_result"
    },
    {
     "data": {
      "image/png": "[encoded data removed]",
      "text/plain": [
       "<Figure size 432x288 with 1 Axes>"
      ]
     },
     "metadata": {
      "needs_background": "light"
     },
     "output_type": "display_data"
    }
   ],
   "source": [
    "img_test,x,y=fetch_data()\n",
    "img=x[234]\n",
    "\n",
    "\n",
    "model_file = config.MODEL_DEFINITION\n",
    "with open(model_file, 'r') as jfile:\n",
    "    model = model_from_json(json.loads(jfile.read()))\n",
    "\n",
    "# Compile model and load weights\n",
    "model.compile(optimizer=Adam(), loss='categorical_crossentropy',\n",
    "metrics=['accuracy'])\n",
    "model.load_weights(config.MODEL_WEIGHTS)\n",
    "\n",
    "li_x=[]\n",
    "li_y=[]\n",
    "        \n",
    "for i in range(0,200,1):  \n",
    "    li_x.append(random.randint(0,30))\n",
    "    li_y.append(random.randint(0,30))\n",
    "           \n",
    "for j in range(0,200,1):\n",
    "    img[li_x[j]:li_x[j]+1,li_y[j]:li_y[j]+1] = (255,255,255)\n",
    "\n",
    "    \n",
    "img.shape=(1,32,32,3)\n",
    "pred=model.predict_classes(img)\n",
    "img.shape=32,32,3\n",
    "plt.imshow(img)\n",
    "plt.title(\"Label-\"+str(pred))"
   ]
  },
  {
   "cell_type": "markdown",
   "metadata": {},
   "source": [
    "Step 5: Checking for 300 pixels."
   ]
  },
  {
   "cell_type": "code",
   "execution_count": 134,
   "metadata": {},
   "outputs": [
    {
     "data": {
      "text/plain": [
       "Text(0.5, 1.0, 'Label-[33]')"
      ]
     },
     "execution_count": 134,
     "metadata": {},
     "output_type": "execute_result"
    },
    {
     "data": {
      "image/png": "[encoded data removed]",
      "text/plain": [
       "<Figure size 432x288 with 1 Axes>"
      ]
     },
     "metadata": {
      "needs_background": "light"
     },
     "output_type": "display_data"
    }
   ],
   "source": [
    "img_test,x,y=fetch_data()\n",
    "img=x[234]\n",
    "\n",
    "\n",
    "model_file = config.MODEL_DEFINITION\n",
    "with open(model_file, 'r') as jfile:\n",
    "    model = model_from_json(json.loads(jfile.read()))\n",
    "\n",
    "# Compile model and load weights\n",
    "model.compile(optimizer=Adam(), loss='categorical_crossentropy',\n",
    "metrics=['accuracy'])\n",
    "model.load_weights(config.MODEL_WEIGHTS)\n",
    "\n",
    "li_x=[]\n",
    "li_y=[]\n",
    "        \n",
    "for i in range(0,300,1):  \n",
    "    li_x.append(random.randint(0,30))\n",
    "    li_y.append(random.randint(0,30))\n",
    "           \n",
    "for j in range(0,300,1):\n",
    "    img[li_x[j]:li_x[j]+1,li_y[j]:li_y[j]+1] = (255,255,255)\n",
    "\n",
    "    \n",
    "img.shape=(1,32,32,3)\n",
    "pred=model.predict_classes(img)\n",
    "img.shape=32,32,3\n",
    "plt.imshow(img)\n",
    "plt.title(\"Label-\"+str(pred))"
   ]
  },
  {
   "cell_type": "markdown",
   "metadata": {},
   "source": [
    "Step 5: Checking for 350 pixels."
   ]
  },
  {
   "cell_type": "code",
   "execution_count": 136,
   "metadata": {},
   "outputs": [
    {
     "data": {
      "text/plain": [
       "Text(0.5, 1.0, 'Label-[33]')"
      ]
     },
     "execution_count": 136,
     "metadata": {},
     "output_type": "execute_result"
    },
    {
     "data": {
      "image/png": "[encoded data removed]",
      "text/plain": [
       "<Figure size 432x288 with 1 Axes>"
      ]
     },
     "metadata": {
      "needs_background": "light"
     },
     "output_type": "display_data"
    }
   ],
   "source": [
    "img_test,x,y=fetch_data()\n",
    "img=x[234]\n",
    "\n",
    "\n",
    "model_file = config.MODEL_DEFINITION\n",
    "with open(model_file, 'r') as jfile:\n",
    "    model = model_from_json(json.loads(jfile.read()))\n",
    "\n",
    "# Compile model and load weights\n",
    "model.compile(optimizer=Adam(), loss='categorical_crossentropy',\n",
    "metrics=['accuracy'])\n",
    "model.load_weights(config.MODEL_WEIGHTS)\n",
    "\n",
    "li_x=[]\n",
    "li_y=[]\n",
    "        \n",
    "for i in range(0,350,1):  \n",
    "    li_x.append(random.randint(0,30))\n",
    "    li_y.append(random.randint(0,30))\n",
    "           \n",
    "for j in range(0,350,1):\n",
    "    img[li_x[j]:li_x[j]+1,li_y[j]:li_y[j]+1] = (255,255,255)\n",
    "\n",
    "    \n",
    "img.shape=(1,32,32,3)\n",
    "pred=model.predict_classes(img)\n",
    "img.shape=32,32,3\n",
    "plt.imshow(img)\n",
    "plt.title(\"Label-\"+str(pred))"
   ]
  },
  {
   "cell_type": "markdown",
   "metadata": {},
   "source": [
    "Step 5: Checking for 400 pixels."
   ]
  },
  {
   "cell_type": "code",
   "execution_count": 122,
   "metadata": {},
   "outputs": [
    {
     "data": {
      "text/plain": [
       "Text(0.5, 1.0, 'Label-[1]')"
      ]
     },
     "execution_count": 122,
     "metadata": {},
     "output_type": "execute_result"
    },
    {
     "data": {
      "image/png": "[encoded data removed]",
      "text/plain": [
       "<Figure size 432x288 with 1 Axes>"
      ]
     },
     "metadata": {
      "needs_background": "light"
     },
     "output_type": "display_data"
    }
   ],
   "source": [
    "img_test,x,y=fetch_data()\n",
    "img=x[234]\n",
    "\n",
    "\n",
    "model_file = config.MODEL_DEFINITION\n",
    "with open(model_file, 'r') as jfile:\n",
    "    model = model_from_json(json.loads(jfile.read()))\n",
    "\n",
    "# Compile model and load weights\n",
    "model.compile(optimizer=Adam(), loss='categorical_crossentropy',\n",
    "metrics=['accuracy'])\n",
    "model.load_weights(config.MODEL_WEIGHTS)\n",
    "\n",
    "li_x=[]\n",
    "li_y=[]\n",
    "        \n",
    "for i in range(0,400,1):  \n",
    "    li_x.append(random.randint(0,30))\n",
    "    li_y.append(random.randint(0,30))\n",
    "           \n",
    "for j in range(0,400,1):\n",
    "    img[li_x[j]:li_x[j]+1,li_y[j]:li_y[j]+1] = (255,255,255)\n",
    "\n",
    "    \n",
    "img.shape=(1,32,32,3)\n",
    "pred=model.predict_classes(img)\n",
    "img.shape=32,32,3\n",
    "plt.imshow(img)\n",
    "plt.title(\"Label-\"+str(pred))"
   ]
  },
  {
   "cell_type": "markdown",
   "metadata": {},
   "source": [
    "Finally the model is predicting a wrong label. In order to test how much is the drop in accuracy after\n",
    "manipulating, we will be manipulating 200 images and we will test the model on it.\n",
    "\n",
    "Note-: The quality of the image has been compromised in the process."
   ]
  },
  {
   "cell_type": "markdown",
   "metadata": {},
   "source": [
    "# Examples of Random Fuzzing"
   ]
  },
  {
   "cell_type": "code",
   "execution_count": 142,
   "metadata": {},
   "outputs": [
    {
     "data": {
      "text/plain": [
       "Text(0.5, 1.0, 'Original Image, Label-[8]')"
      ]
     },
     "execution_count": 142,
     "metadata": {},
     "output_type": "execute_result"
    },
    {
     "data": {
      "image/png": "[encoded data removed]",
      "text/plain": [
       "<Figure size 432x288 with 1 Axes>"
      ]
     },
     "metadata": {
      "needs_background": "light"
     },
     "output_type": "display_data"
    }
   ],
   "source": [
    "img_test,x,y=fetch_data()\n",
    "img=x[123]\n",
    "plt.imshow(img)\n",
    "plt.title(\"Original Image, Label-\"+str(y[123]))\n"
   ]
  },
  {
   "cell_type": "code",
   "execution_count": 156,
   "metadata": {},
   "outputs": [
    {
     "data": {
      "text/plain": [
       "Text(0.5, 1.0, 'Label-[17]')"
      ]
     },
     "execution_count": 156,
     "metadata": {},
     "output_type": "execute_result"
    },
    {
     "data": {
      "image/png": "[encoded data removed]",
      "text/plain": [
       "<Figure size 432x288 with 1 Axes>"
      ]
     },
     "metadata": {
      "needs_background": "light"
     },
     "output_type": "display_data"
    }
   ],
   "source": [
    "img_test,x,y=fetch_data()\n",
    "img=x[123]\n",
    "\n",
    "\n",
    "model_file = config.MODEL_DEFINITION\n",
    "with open(model_file, 'r') as jfile:\n",
    "    model = model_from_json(json.loads(jfile.read()))\n",
    "\n",
    "# Compile model and load weights\n",
    "model.compile(optimizer=Adam(), loss='categorical_crossentropy',\n",
    "metrics=['accuracy'])\n",
    "model.load_weights(config.MODEL_WEIGHTS)\n",
    "\n",
    "li_x=[]\n",
    "li_y=[]\n",
    "        \n",
    "for i in range(0,400,1):  \n",
    "    li_x.append(random.randint(0,30))\n",
    "    li_y.append(random.randint(0,30))\n",
    "           \n",
    "for j in range(0,400,1):\n",
    "    img[li_x[j]:li_x[j]+1,li_y[j]:li_y[j]+1] = (255,255,255)\n",
    "\n",
    "    \n",
    "img.shape=(1,32,32,3)\n",
    "pred=model.predict_classes(img)\n",
    "img.shape=32,32,3\n",
    "plt.imshow(img)\n",
    "plt.title(\"Label-\"+str(pred))"
   ]
  },
  {
   "cell_type": "code",
   "execution_count": 162,
   "metadata": {},
   "outputs": [
    {
     "data": {
      "text/plain": [
       "Text(0.5, 1.0, 'Original Image, Label-[38]')"
      ]
     },
     "execution_count": 162,
     "metadata": {},
     "output_type": "execute_result"
    },
    {
     "data": {
      "image/png": "[encoded data removed]",
      "text/plain": [
       "<Figure size 432x288 with 1 Axes>"
      ]
     },
     "metadata": {
      "needs_background": "light"
     },
     "output_type": "display_data"
    }
   ],
   "source": [
    "img_test,x,y=fetch_data()\n",
    "img=x[5]\n",
    "plt.imshow(img)\n",
    "plt.title(\"Original Image, Label-\"+str(y[5]))"
   ]
  },
  {
   "cell_type": "code",
   "execution_count": 165,
   "metadata": {},
   "outputs": [
    {
     "data": {
      "text/plain": [
       "Text(0.5, 1.0, 'Label-[36]')"
      ]
     },
     "execution_count": 165,
     "metadata": {},
     "output_type": "execute_result"
    },
    {
     "data": {
      "image/png": "[encoded data removed]",
      "text/plain": [
       "<Figure size 432x288 with 1 Axes>"
      ]
     },
     "metadata": {
      "needs_background": "light"
     },
     "output_type": "display_data"
    }
   ],
   "source": [
    "img_test,x,y=fetch_data()\n",
    "img=x[5]\n",
    "\n",
    "\n",
    "model_file = config.MODEL_DEFINITION\n",
    "with open(model_file, 'r') as jfile:\n",
    "    model = model_from_json(json.loads(jfile.read()))\n",
    "\n",
    "# Compile model and load weights\n",
    "model.compile(optimizer=Adam(), loss='categorical_crossentropy',\n",
    "metrics=['accuracy'])\n",
    "model.load_weights(config.MODEL_WEIGHTS)\n",
    "\n",
    "li_x=[]\n",
    "li_y=[]\n",
    "        \n",
    "for i in range(0,400,1):  \n",
    "    li_x.append(random.randint(0,30))\n",
    "    li_y.append(random.randint(0,30))\n",
    "           \n",
    "for j in range(0,400,1):\n",
    "    img[li_x[j]:li_x[j]+1,li_y[j]:li_y[j]+1] = (255,255,255)\n",
    "\n",
    "    \n",
    "img.shape=(1,32,32,3)\n",
    "pred=model.predict_classes(img)\n",
    "img.shape=32,32,3\n",
    "plt.imshow(img)\n",
    "plt.title(\"Label-\"+str(pred))"
   ]
  },
  {
   "cell_type": "markdown",
   "metadata": {},
   "source": [
    "Note: The model has predicted the wrong value after manipulation of 400 pixels. The quaity of the image obtained\n",
    "in the end is highly degraded."
   ]
  },
  {
   "cell_type": "markdown",
   "metadata": {},
   "source": [
    "# Testing on 200 images"
   ]
  },
  {
   "cell_type": "code",
   "execution_count": 168,
   "metadata": {},
   "outputs": [
    {
     "name": "stdout",
     "output_type": "stream",
     "text": [
      "***********************************************************\n",
      "the True Label is  [23]\n",
      "the predicted label is-: [23]\n",
      "***********************************************************\n",
      "the True Label is  [10]\n",
      "the predicted label is-: [18]\n",
      "***********************************************************\n",
      "the True Label is  [1]\n",
      "the predicted label is-: [1]\n",
      "***********************************************************\n",
      "the True Label is  [3]\n",
      "the predicted label is-: [3]\n",
      "***********************************************************\n",
      "the True Label is  [25]\n",
      "the predicted label is-: [25]\n",
      "***********************************************************\n",
      "the True Label is  [2]\n",
      "the predicted label is-: [2]\n",
      "***********************************************************\n",
      "the True Label is  [3]\n",
      "the predicted label is-: [26]\n",
      "***********************************************************\n",
      "the True Label is  [9]\n",
      "the predicted label is-: [16]\n",
      "***********************************************************\n",
      "the True Label is  [4]\n",
      "the predicted label is-: [13]\n",
      "***********************************************************\n",
      "the True Label is  [12]\n",
      "the predicted label is-: [12]\n",
      "***********************************************************\n",
      "the True Label is  [4]\n",
      "the predicted label is-: [4]\n",
      "***********************************************************\n",
      "the True Label is  [3]\n",
      "the predicted label is-: [5]\n",
      "***********************************************************\n",
      "the True Label is  [38]\n",
      "the predicted label is-: [38]\n",
      "***********************************************************\n",
      "the True Label is  [35]\n",
      "the predicted label is-: [9]\n",
      "***********************************************************\n",
      "the True Label is  [3]\n",
      "the predicted label is-: [2]\n",
      "***********************************************************\n",
      "the True Label is  [12]\n",
      "the predicted label is-: [12]\n",
      "***********************************************************\n",
      "the True Label is  [31]\n",
      "the predicted label is-: [25]\n",
      "***********************************************************\n",
      "the True Label is  [21]\n",
      "the predicted label is-: [21]\n",
      "***********************************************************\n",
      "the True Label is  [8]\n",
      "the predicted label is-: [0]\n",
      "***********************************************************\n",
      "the True Label is  [28]\n",
      "the predicted label is-: [15]\n",
      "***********************************************************\n",
      "the True Label is  [11]\n",
      "the predicted label is-: [11]\n",
      "***********************************************************\n",
      "the True Label is  [2]\n",
      "the predicted label is-: [2]\n",
      "***********************************************************\n",
      "the True Label is  [9]\n",
      "the predicted label is-: [9]\n",
      "***********************************************************\n",
      "the True Label is  [5]\n",
      "the predicted label is-: [1]\n",
      "***********************************************************\n",
      "the True Label is  [9]\n",
      "the predicted label is-: [11]\n",
      "***********************************************************\n",
      "the True Label is  [12]\n",
      "the predicted label is-: [25]\n",
      "***********************************************************\n",
      "the True Label is  [5]\n",
      "the predicted label is-: [8]\n",
      "***********************************************************\n",
      "the True Label is  [25]\n",
      "the predicted label is-: [25]\n",
      "***********************************************************\n",
      "the True Label is  [12]\n",
      "the predicted label is-: [12]\n",
      "***********************************************************\n",
      "the True Label is  [36]\n",
      "the predicted label is-: [36]\n",
      "***********************************************************\n",
      "the True Label is  [31]\n",
      "the predicted label is-: [22]\n",
      "***********************************************************\n",
      "the True Label is  [13]\n",
      "the predicted label is-: [13]\n",
      "***********************************************************\n",
      "the True Label is  [38]\n",
      "the predicted label is-: [38]\n",
      "***********************************************************\n",
      "the True Label is  [35]\n",
      "the predicted label is-: [35]\n",
      "***********************************************************\n",
      "the True Label is  [18]\n",
      "the predicted label is-: [18]\n",
      "***********************************************************\n",
      "the True Label is  [14]\n",
      "the predicted label is-: [14]\n",
      "***********************************************************\n",
      "the True Label is  [13]\n",
      "the predicted label is-: [13]\n",
      "***********************************************************\n",
      "the True Label is  [1]\n",
      "the predicted label is-: [1]\n",
      "***********************************************************\n",
      "the True Label is  [2]\n",
      "the predicted label is-: [2]\n",
      "***********************************************************\n",
      "the True Label is  [25]\n",
      "the predicted label is-: [25]\n",
      "***********************************************************\n",
      "the True Label is  [4]\n",
      "the predicted label is-: [1]\n",
      "***********************************************************\n",
      "the True Label is  [4]\n",
      "the predicted label is-: [4]\n",
      "***********************************************************\n",
      "the True Label is  [13]\n",
      "the predicted label is-: [13]\n",
      "***********************************************************\n",
      "the True Label is  [31]\n",
      "the predicted label is-: [1]\n",
      "***********************************************************\n",
      "the True Label is  [9]\n",
      "the predicted label is-: [16]\n",
      "***********************************************************\n",
      "the True Label is  [18]\n",
      "the predicted label is-: [21]\n",
      "***********************************************************\n",
      "the True Label is  [33]\n",
      "the predicted label is-: [35]\n",
      "***********************************************************\n",
      "the True Label is  [14]\n",
      "the predicted label is-: [14]\n",
      "***********************************************************\n",
      "the True Label is  [13]\n",
      "the predicted label is-: [13]\n",
      "***********************************************************\n",
      "the True Label is  [16]\n",
      "the predicted label is-: [16]\n",
      "***********************************************************\n",
      "the True Label is  [28]\n",
      "the predicted label is-: [28]\n",
      "***********************************************************\n",
      "the True Label is  [18]\n",
      "the predicted label is-: [18]\n",
      "***********************************************************\n",
      "the True Label is  [7]\n",
      "the predicted label is-: [31]\n",
      "***********************************************************\n",
      "the True Label is  [6]\n",
      "the predicted label is-: [13]\n",
      "***********************************************************\n",
      "the True Label is  [17]\n",
      "the predicted label is-: [17]\n",
      "***********************************************************\n",
      "the True Label is  [32]\n",
      "the predicted label is-: [32]\n",
      "***********************************************************\n",
      "the True Label is  [4]\n",
      "the predicted label is-: [18]\n",
      "***********************************************************\n",
      "the True Label is  [13]\n",
      "the predicted label is-: [13]\n",
      "***********************************************************\n",
      "the True Label is  [31]\n",
      "the predicted label is-: [3]\n",
      "***********************************************************\n",
      "the True Label is  [38]\n",
      "the predicted label is-: [34]\n",
      "***********************************************************\n",
      "the True Label is  [1]\n",
      "the predicted label is-: [1]\n",
      "***********************************************************\n",
      "the True Label is  [21]\n",
      "the predicted label is-: [21]\n",
      "***********************************************************\n",
      "the True Label is  [3]\n",
      "the predicted label is-: [13]\n",
      "***********************************************************\n",
      "the True Label is  [8]\n",
      "the predicted label is-: [25]\n",
      "***********************************************************\n",
      "the True Label is  [5]\n",
      "the predicted label is-: [28]\n",
      "***********************************************************\n",
      "the True Label is  [13]\n",
      "the predicted label is-: [13]\n",
      "***********************************************************\n",
      "the True Label is  [1]\n",
      "the predicted label is-: [1]\n",
      "***********************************************************\n",
      "the True Label is  [26]\n",
      "the predicted label is-: [26]\n",
      "***********************************************************\n",
      "the True Label is  [8]\n",
      "the predicted label is-: [1]\n",
      "***********************************************************\n",
      "the True Label is  [16]\n",
      "the predicted label is-: [9]\n",
      "***********************************************************\n",
      "the True Label is  [33]\n",
      "the predicted label is-: [33]\n",
      "***********************************************************\n",
      "the True Label is  [3]\n",
      "the predicted label is-: [3]\n",
      "***********************************************************\n",
      "the True Label is  [32]\n",
      "the predicted label is-: [15]\n",
      "***********************************************************\n",
      "the True Label is  [38]\n"
     ]
    },
    {
     "name": "stdout",
     "output_type": "stream",
     "text": [
      "the predicted label is-: [38]\n",
      "***********************************************************\n",
      "the True Label is  [18]\n",
      "the predicted label is-: [13]\n",
      "***********************************************************\n",
      "the True Label is  [35]\n",
      "the predicted label is-: [12]\n",
      "***********************************************************\n",
      "the True Label is  [9]\n",
      "the predicted label is-: [13]\n",
      "***********************************************************\n",
      "the True Label is  [10]\n",
      "the predicted label is-: [25]\n",
      "***********************************************************\n",
      "the True Label is  [8]\n",
      "the predicted label is-: [13]\n",
      "***********************************************************\n",
      "the True Label is  [13]\n",
      "the predicted label is-: [13]\n",
      "***********************************************************\n",
      "the True Label is  [22]\n",
      "the predicted label is-: [22]\n",
      "***********************************************************\n",
      "the True Label is  [5]\n",
      "the predicted label is-: [12]\n",
      "***********************************************************\n",
      "the True Label is  [8]\n",
      "the predicted label is-: [1]\n",
      "***********************************************************\n",
      "the True Label is  [38]\n",
      "the predicted label is-: [35]\n",
      "***********************************************************\n",
      "the True Label is  [0]\n",
      "the predicted label is-: [40]\n",
      "***********************************************************\n",
      "the True Label is  [18]\n",
      "the predicted label is-: [12]\n",
      "***********************************************************\n",
      "the True Label is  [34]\n",
      "the predicted label is-: [38]\n",
      "***********************************************************\n",
      "the True Label is  [9]\n",
      "the predicted label is-: [13]\n",
      "***********************************************************\n",
      "the True Label is  [23]\n",
      "the predicted label is-: [1]\n",
      "***********************************************************\n",
      "the True Label is  [14]\n",
      "the predicted label is-: [1]\n",
      "***********************************************************\n",
      "the True Label is  [15]\n",
      "the predicted label is-: [15]\n",
      "***********************************************************\n",
      "the True Label is  [36]\n",
      "the predicted label is-: [36]\n",
      "***********************************************************\n",
      "the True Label is  [10]\n",
      "the predicted label is-: [9]\n",
      "***********************************************************\n",
      "the True Label is  [6]\n",
      "the predicted label is-: [37]\n",
      "***********************************************************\n",
      "the True Label is  [29]\n",
      "the predicted label is-: [28]\n",
      "***********************************************************\n",
      "the True Label is  [7]\n",
      "the predicted label is-: [7]\n",
      "***********************************************************\n",
      "the True Label is  [5]\n",
      "the predicted label is-: [2]\n",
      "***********************************************************\n",
      "the True Label is  [4]\n",
      "the predicted label is-: [1]\n",
      "***********************************************************\n",
      "the True Label is  [8]\n",
      "the predicted label is-: [17]\n",
      "***********************************************************\n",
      "the True Label is  [8]\n",
      "the predicted label is-: [1]\n",
      "***********************************************************\n",
      "the True Label is  [35]\n",
      "the predicted label is-: [35]\n",
      "***********************************************************\n",
      "the True Label is  [1]\n",
      "the predicted label is-: [1]\n",
      "***********************************************************\n",
      "the True Label is  [5]\n",
      "the predicted label is-: [15]\n",
      "***********************************************************\n",
      "the True Label is  [13]\n",
      "the predicted label is-: [13]\n",
      "***********************************************************\n",
      "the True Label is  [6]\n",
      "the predicted label is-: [18]\n",
      "***********************************************************\n",
      "the True Label is  [35]\n",
      "the predicted label is-: [33]\n",
      "***********************************************************\n",
      "the True Label is  [8]\n",
      "the predicted label is-: [8]\n",
      "***********************************************************\n",
      "the True Label is  [9]\n",
      "the predicted label is-: [37]\n",
      "***********************************************************\n",
      "the True Label is  [12]\n",
      "the predicted label is-: [12]\n",
      "***********************************************************\n",
      "the True Label is  [38]\n",
      "the predicted label is-: [2]\n",
      "***********************************************************\n",
      "the True Label is  [7]\n",
      "the predicted label is-: [25]\n",
      "***********************************************************\n",
      "the True Label is  [31]\n",
      "the predicted label is-: [25]\n",
      "***********************************************************\n",
      "the True Label is  [2]\n",
      "the predicted label is-: [2]\n",
      "***********************************************************\n",
      "the True Label is  [10]\n",
      "the predicted label is-: [30]\n",
      "***********************************************************\n",
      "the True Label is  [11]\n",
      "the predicted label is-: [11]\n",
      "***********************************************************\n",
      "the True Label is  [10]\n",
      "the predicted label is-: [13]\n",
      "***********************************************************\n",
      "the True Label is  [14]\n",
      "the predicted label is-: [14]\n",
      "***********************************************************\n",
      "the True Label is  [25]\n",
      "the predicted label is-: [25]\n",
      "***********************************************************\n",
      "the True Label is  [27]\n",
      "the predicted label is-: [18]\n",
      "***********************************************************\n",
      "the True Label is  [4]\n",
      "the predicted label is-: [30]\n",
      "***********************************************************\n",
      "the True Label is  [5]\n",
      "the predicted label is-: [25]\n",
      "***********************************************************\n",
      "the True Label is  [2]\n",
      "the predicted label is-: [7]\n",
      "***********************************************************\n",
      "the True Label is  [15]\n",
      "the predicted label is-: [15]\n",
      "***********************************************************\n",
      "the True Label is  [11]\n",
      "the predicted label is-: [11]\n",
      "***********************************************************\n",
      "the True Label is  [18]\n",
      "the predicted label is-: [12]\n",
      "***********************************************************\n",
      "the True Label is  [29]\n",
      "the predicted label is-: [28]\n",
      "***********************************************************\n",
      "the True Label is  [11]\n",
      "the predicted label is-: [23]\n",
      "***********************************************************\n",
      "the True Label is  [16]\n",
      "the predicted label is-: [16]\n",
      "***********************************************************\n",
      "the True Label is  [14]\n",
      "the predicted label is-: [19]\n",
      "***********************************************************\n",
      "the True Label is  [6]\n",
      "the predicted label is-: [4]\n",
      "***********************************************************\n",
      "the True Label is  [3]\n",
      "the predicted label is-: [2]\n",
      "***********************************************************\n",
      "the True Label is  [25]\n",
      "the predicted label is-: [25]\n",
      "***********************************************************\n",
      "the True Label is  [5]\n",
      "the predicted label is-: [1]\n",
      "***********************************************************\n",
      "the True Label is  [30]\n",
      "the predicted label is-: [11]\n",
      "***********************************************************\n",
      "the True Label is  [35]\n",
      "the predicted label is-: [18]\n",
      "***********************************************************\n",
      "the True Label is  [13]\n",
      "the predicted label is-: [13]\n",
      "***********************************************************\n",
      "the True Label is  [38]\n",
      "the predicted label is-: [31]\n",
      "***********************************************************\n",
      "the True Label is  [22]\n",
      "the predicted label is-: [22]\n",
      "***********************************************************\n",
      "the True Label is  [13]\n",
      "the predicted label is-: [13]\n",
      "***********************************************************\n",
      "the True Label is  [26]\n",
      "the predicted label is-: [26]\n",
      "***********************************************************\n",
      "the True Label is  [21]\n",
      "the predicted label is-: [19]\n",
      "***********************************************************\n",
      "the True Label is  [5]\n",
      "the predicted label is-: [2]\n",
      "***********************************************************\n",
      "the True Label is  [4]\n",
      "the predicted label is-: [4]\n",
      "***********************************************************\n",
      "the True Label is  [11]\n",
      "the predicted label is-: [11]\n",
      "***********************************************************\n",
      "the True Label is  [35]\n",
      "the predicted label is-: [13]\n",
      "***********************************************************\n",
      "the True Label is  [28]\n",
      "the predicted label is-: [23]\n",
      "***********************************************************\n",
      "the True Label is  [12]\n",
      "the predicted label is-: [9]\n"
     ]
    },
    {
     "name": "stdout",
     "output_type": "stream",
     "text": [
      "***********************************************************\n",
      "the True Label is  [1]\n",
      "the predicted label is-: [1]\n",
      "***********************************************************\n",
      "the True Label is  [13]\n",
      "the predicted label is-: [25]\n",
      "***********************************************************\n",
      "the True Label is  [12]\n",
      "the predicted label is-: [13]\n",
      "***********************************************************\n",
      "the True Label is  [5]\n",
      "the predicted label is-: [2]\n",
      "***********************************************************\n",
      "the True Label is  [38]\n",
      "the predicted label is-: [12]\n",
      "***********************************************************\n",
      "the True Label is  [14]\n",
      "the predicted label is-: [14]\n",
      "***********************************************************\n",
      "the True Label is  [13]\n",
      "the predicted label is-: [1]\n",
      "***********************************************************\n",
      "the True Label is  [6]\n",
      "the predicted label is-: [13]\n",
      "***********************************************************\n",
      "the True Label is  [27]\n",
      "the predicted label is-: [14]\n",
      "***********************************************************\n",
      "the True Label is  [37]\n",
      "the predicted label is-: [37]\n",
      "***********************************************************\n",
      "the True Label is  [10]\n",
      "the predicted label is-: [28]\n",
      "***********************************************************\n",
      "the True Label is  [10]\n",
      "the predicted label is-: [12]\n",
      "***********************************************************\n",
      "the True Label is  [38]\n",
      "the predicted label is-: [38]\n",
      "***********************************************************\n",
      "the True Label is  [13]\n",
      "the predicted label is-: [13]\n",
      "***********************************************************\n",
      "the True Label is  [40]\n",
      "the predicted label is-: [40]\n",
      "***********************************************************\n",
      "the True Label is  [18]\n",
      "the predicted label is-: [26]\n",
      "***********************************************************\n",
      "the True Label is  [1]\n",
      "the predicted label is-: [14]\n",
      "***********************************************************\n",
      "the True Label is  [10]\n",
      "the predicted label is-: [12]\n",
      "***********************************************************\n",
      "the True Label is  [4]\n",
      "the predicted label is-: [4]\n",
      "***********************************************************\n",
      "the True Label is  [28]\n",
      "the predicted label is-: [28]\n",
      "***********************************************************\n",
      "the True Label is  [13]\n",
      "the predicted label is-: [13]\n",
      "***********************************************************\n",
      "the True Label is  [2]\n",
      "the predicted label is-: [2]\n",
      "***********************************************************\n",
      "the True Label is  [41]\n",
      "the predicted label is-: [41]\n",
      "***********************************************************\n",
      "the True Label is  [2]\n",
      "the predicted label is-: [2]\n",
      "***********************************************************\n",
      "the True Label is  [29]\n",
      "the predicted label is-: [29]\n",
      "***********************************************************\n",
      "the True Label is  [14]\n",
      "the predicted label is-: [6]\n",
      "***********************************************************\n",
      "the True Label is  [39]\n",
      "the predicted label is-: [39]\n",
      "***********************************************************\n",
      "the True Label is  [12]\n",
      "the predicted label is-: [26]\n",
      "***********************************************************\n",
      "the True Label is  [38]\n",
      "the predicted label is-: [39]\n",
      "***********************************************************\n",
      "the True Label is  [25]\n",
      "the predicted label is-: [25]\n",
      "***********************************************************\n",
      "the True Label is  [3]\n",
      "the predicted label is-: [3]\n",
      "***********************************************************\n",
      "the True Label is  [18]\n",
      "the predicted label is-: [1]\n",
      "***********************************************************\n",
      "the True Label is  [2]\n",
      "the predicted label is-: [2]\n",
      "***********************************************************\n",
      "the True Label is  [4]\n",
      "the predicted label is-: [13]\n",
      "***********************************************************\n",
      "the True Label is  [10]\n",
      "the predicted label is-: [8]\n",
      "***********************************************************\n",
      "the True Label is  [9]\n",
      "the predicted label is-: [34]\n",
      "***********************************************************\n",
      "the True Label is  [17]\n",
      "the predicted label is-: [17]\n",
      "***********************************************************\n",
      "the True Label is  [34]\n",
      "the predicted label is-: [34]\n",
      "***********************************************************\n",
      "the True Label is  [22]\n",
      "the predicted label is-: [22]\n",
      "***********************************************************\n",
      "the True Label is  [3]\n",
      "the predicted label is-: [2]\n",
      "***********************************************************\n",
      "the True Label is  [31]\n",
      "the predicted label is-: [26]\n",
      "***********************************************************\n",
      "the True Label is  [28]\n",
      "the predicted label is-: [28]\n",
      "***********************************************************\n",
      "the True Label is  [2]\n",
      "the predicted label is-: [1]\n",
      "***********************************************************\n",
      "the True Label is  [7]\n",
      "the predicted label is-: [21]\n",
      "***********************************************************\n",
      "the True Label is  [8]\n",
      "the predicted label is-: [4]\n",
      "***********************************************************\n",
      "the True Label is  [38]\n",
      "the predicted label is-: [1]\n",
      "***********************************************************\n",
      "the True Label is  [13]\n",
      "the predicted label is-: [13]\n",
      "***********************************************************\n",
      "the True Label is  [7]\n",
      "the predicted label is-: [10]\n",
      "***********************************************************\n",
      "the True Label is  [35]\n",
      "the predicted label is-: [34]\n",
      "***********************************************************\n",
      "the True Label is  [13]\n",
      "the predicted label is-: [13]\n",
      "***********************************************************\n",
      "the True Label is  [3]\n",
      "the predicted label is-: [25]\n",
      "***********************************************************\n",
      "the True Label is  [28]\n",
      "the predicted label is-: [28]\n",
      "***********************************************************\n",
      "the True Label is  [36]\n",
      "the predicted label is-: [36]\n",
      "***********************************************************\n",
      "0.46\n"
     ]
    },
    {
     "data": {
      "image/png": "[encoded data removed]",
      "text/plain": [
       "<Figure size 432x288 with 1 Axes>"
      ]
     },
     "metadata": {
      "needs_background": "light"
     },
     "output_type": "display_data"
    }
   ],
   "source": [
    "def noise(img):\n",
    "        \n",
    "    coord_li=[]  \n",
    "    li_x=[]\n",
    "    li_y=[]\n",
    "        \n",
    "    for i in range(0,400,1):  \n",
    "        li_x.append(random.randint(0,40))\n",
    "        coord_li.append(li_x)\n",
    "        li_y.append(random.randint(0,40))\n",
    "          \n",
    "    for j in range(0,400,1):\n",
    "        img[li_x[j]:li_x[j]+1,li_y[j]:li_y[j]+1] = (255,255,255)\n",
    "        \n",
    "    \n",
    "    return img\n",
    "\n",
    "def fuzz():\n",
    "    y_true=[]              ## stores the true value of the images\n",
    "    y_pred=[]              ## stores the predicted value of the images\n",
    "    \n",
    "    \n",
    "    img_test,x,y=fetch_data()\n",
    "    for i in range(0,200,1):\n",
    "        img=x[img_test[i]]\n",
    "    \n",
    "        img=noise(img)\n",
    "        plt.imshow(cv2.cvtColor(img, cv2.COLOR_BGR2RGB))\n",
    "        plt.title('Updated')\n",
    "        # fetching the images and resizing\n",
    "    \n",
    "        img.shape=(1,32,32,3)\n",
    "        \n",
    "        \n",
    "        model_file = config.MODEL_DEFINITION\n",
    "        with open(model_file, 'r') as jfile:\n",
    "            model = model_from_json(json.loads(jfile.read()))\n",
    "\n",
    "        # Compile model and load weights\n",
    "        model.compile(optimizer=Adam(), loss='categorical_crossentropy',\n",
    "              metrics=['accuracy'])\n",
    "        model.load_weights(config.MODEL_WEIGHTS)\n",
    "        \n",
    "        \n",
    "        \n",
    "        \n",
    "        print(\"***********************************************************\")\n",
    "        \n",
    "        y_cat = np_utils.to_categorical(y[img_test[i]], config.NUM_CLASSES)\n",
    "        \n",
    "        print(\"the True Label is \",y[img_test[i]])\n",
    "        y_true.append(y[img_test[i]])\n",
    "        \n",
    "        # prediction of labels\n",
    "        prediction=model.predict_classes(img)\n",
    "        \n",
    "        print(\"the predicted label is-:\",prediction)\n",
    "        \n",
    "        y_pred.append(prediction)\n",
    "    \n",
    "    print(\"***********************************************************\")\n",
    "    correct_percent=accuracy_score(y_true, y_pred)\n",
    "        \n",
    "    print(correct_percent)\n",
    "        \n",
    "            \n",
    "        \n",
    "        \n",
    "fuzz()"
   ]
  },
  {
   "cell_type": "markdown",
   "metadata": {},
   "source": [
    "Conclusion- The prediction accuracy has gone significantly down to 46% from 95.5%. But with that the quality of the image obtained is so bad, that even the human can't recognize it."
   ]
  }
 ],
 "metadata": {
  "kernelspec": {
   "display_name": "Python 3",
   "language": "python",
   "name": "python3"
  },
  "language_info": {
   "codemirror_mode": {
    "name": "ipython",
    "version": 3
   },
   "file_extension": ".py",
   "mimetype": "text/x-python",
   "name": "python",
   "nbconvert_exporter": "python",
   "pygments_lexer": "ipython3",
   "version": "3.7.3"
  }
 },
 "nbformat": 4,
 "nbformat_minor": 2
}
